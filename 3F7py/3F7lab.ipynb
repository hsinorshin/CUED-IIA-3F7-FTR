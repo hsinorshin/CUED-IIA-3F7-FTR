{
 "cells": [
  {
   "cell_type": "markdown",
   "metadata": {},
   "source": [
    "# 3F7 Lab: CamZIP"
   ]
  },
  {
   "cell_type": "markdown",
   "metadata": {},
   "source": [
    "## Tree data structures"
   ]
  },
  {
   "cell_type": "markdown",
   "metadata": {},
   "source": [
    "Import all functions from the package trees where we put together a number of tools for handling trees in the 3F7 lab."
   ]
  },
  {
   "cell_type": "code",
   "execution_count": 1,
   "metadata": {},
   "outputs": [],
   "source": [
    "from trees import *"
   ]
  },
  {
   "cell_type": "markdown",
   "metadata": {},
   "source": [
    "Now define a simple tree (play around with this command and construct more complicated trees....)"
   ]
  },
  {
   "cell_type": "code",
   "execution_count": 2,
   "metadata": {},
   "outputs": [],
   "source": [
    "t = [-1,0,1,1,0]"
   ]
  },
  {
   "cell_type": "markdown",
   "metadata": {},
   "source": [
    "The following command will print a string that can be copy-pasted into a tree visualising website like [phylo.io](https://phylo.io) (don't forget to add a new line at the end of the string after cutting and pasting)"
   ]
  },
  {
   "cell_type": "code",
   "execution_count": 3,
   "metadata": {},
   "outputs": [
    {
     "name": "stdout",
     "output_type": "stream",
     "text": [
      "((1000,1001)1004,1002)1003\n",
      "Cut and paste the string on the previous line and add a \"new line\" at the end of the string.\n"
     ]
    }
   ],
   "source": [
    "print(tree2newick(t))\n",
    "print('Cut and paste the string on the previous line and add a \"new line\" at the end of the string.')"
   ]
  },
  {
   "cell_type": "markdown",
   "metadata": {},
   "source": [
    "You can also add labels to the nodes in the `tree2newick` command."
   ]
  },
  {
   "cell_type": "code",
   "execution_count": 4,
   "metadata": {},
   "outputs": [
    {
     "name": "stdout",
     "output_type": "stream",
     "text": [
      "((grandchild 0,grandchild 1)child 0,child 1)root\n"
     ]
    }
   ],
   "source": [
    "print(tree2newick(t,['root', 'child 0', 'grandchild 0', 'grandchild 1', 'child 1']))"
   ]
  },
  {
   "cell_type": "markdown",
   "metadata": {},
   "source": [
    "If there are less labels than nodes, the labels will be interpreted \"leaves first\""
   ]
  },
  {
   "cell_type": "code",
   "execution_count": 5,
   "metadata": {},
   "outputs": [
    {
     "name": "stdout",
     "output_type": "stream",
     "text": [
      "((symbol 0,symbol 1)1004,symbol 2)1003\n"
     ]
    }
   ],
   "source": [
    "print(tree2newick(t,['symbol 0','symbol 1', 'symbol 2']))"
   ]
  },
  {
   "cell_type": "markdown",
   "metadata": {},
   "source": [
    "The following command converts a variable-length code described by a tree to a code table format."
   ]
  },
  {
   "cell_type": "code",
   "execution_count": 6,
   "metadata": {
    "scrolled": true
   },
   "outputs": [
    {
     "name": "stdout",
     "output_type": "stream",
     "text": [
      "{'1000': [0, 0], '1001': [0, 1], '1002': [1]}\n"
     ]
    }
   ],
   "source": [
    "print(tree2code(t))"
   ]
  },
  {
   "cell_type": "markdown",
   "metadata": {},
   "source": [
    "Verify that the inverse function can recover the tree. "
   ]
  },
  {
   "cell_type": "code",
   "execution_count": 7,
   "metadata": {},
   "outputs": [
    {
     "name": "stdout",
     "output_type": "stream",
     "text": [
      "[-1, 0, 1, 1, 0]\n"
     ]
    }
   ],
   "source": [
    "print(code2tree(tree2code(t)))"
   ]
  },
  {
   "cell_type": "markdown",
   "metadata": {},
   "source": [
    "But the following may happen as well. Can you explain why?"
   ]
  },
  {
   "cell_type": "code",
   "execution_count": 8,
   "metadata": {},
   "outputs": [
    {
     "name": "stdout",
     "output_type": "stream",
     "text": [
      "[-1, 0, 1, 1, 0]\n"
     ]
    }
   ],
   "source": [
    "print(code2tree(tree2code([3,3,4,4,-1])))"
   ]
  },
  {
   "cell_type": "code",
   "execution_count": 9,
   "metadata": {},
   "outputs": [
    {
     "name": "stdout",
     "output_type": "stream",
     "text": [
      "(child 0,(grandchild 0,grandchild 1)child 1)root\n"
     ]
    }
   ],
   "source": [
    "print(tree2newick([3,3,4,4,-1], ['grandchild 0', 'grandchild 1', 'child 0', 'child 1', 'root']))"
   ]
  },
  {
   "cell_type": "markdown",
   "metadata": {},
   "source": [
    "Similarly but far more problematic is the following inversion. The resulting assignment of codeword to symbols is fundamentally different from the original and would result in wrong decoding."
   ]
  },
  {
   "cell_type": "code",
   "execution_count": 10,
   "metadata": {},
   "outputs": [
    {
     "name": "stdout",
     "output_type": "stream",
     "text": [
      "{'1000': [0], '1001': [1, 0], '1002': [1, 1, 0], '1003': [1, 1, 1]}\n"
     ]
    }
   ],
   "source": [
    "print(tree2code(code2tree({'0':[1], '1':[0,1], '2':[0,0,1], '3':[0,0,0]})))"
   ]
  },
  {
   "cell_type": "markdown",
   "metadata": {},
   "source": [
    "These problems are all solved when using the extended tree format."
   ]
  },
  {
   "cell_type": "code",
   "execution_count": 11,
   "metadata": {},
   "outputs": [
    {
     "name": "stdout",
     "output_type": "stream",
     "text": [
      "[[3, [], 'a'], [3, [], 'b'], [4, [], 'c'], [4, [0, 1], '1003'], [-1, [2, 3], '1004']]\n"
     ]
    }
   ],
   "source": [
    "xt = tree2xtree([3,3,4,4,-1], ['a', 'b', 'c'])\n",
    "print(xt)"
   ]
  },
  {
   "cell_type": "code",
   "execution_count": 12,
   "metadata": {},
   "outputs": [
    {
     "name": "stdout",
     "output_type": "stream",
     "text": [
      "{'0': [1], '1': [0, 1], '2': [0, 0, 1], '3': [0, 0, 0]}\n"
     ]
    }
   ],
   "source": [
    "print(xtree2code(code2xtree({'0':[1], '1':[0,1], '2':[0,0,1], '3':[0,0,0]})))"
   ]
  },
  {
   "cell_type": "markdown",
   "metadata": {},
   "source": [
    "## Testing your Shannon-Fano Code"
   ]
  },
  {
   "cell_type": "markdown",
   "metadata": {},
   "source": [
    "This next section can only be completed once you have a working Shannon-Fano function `shannon_fano()`"
   ]
  },
  {
   "cell_type": "code",
   "execution_count": 13,
   "metadata": {},
   "outputs": [
    {
     "name": "stdout",
     "output_type": "stream",
     "text": [
      "Probability distribution: {'a': 0.06670810460363434, 'b': 0.09297518476062797, 'c': 0.09186191869757493, 'd': 0.011421149422451782, 'e': 0.06422123888012886, 'f': 0.02322940355912874, 'g': 0.1135663077179275, 'h': 0.1041805905102878, 'i': 0.07840132111668911, 'j': 0.047773060945774895, 'k': 0.008836113503818788, 'l': 0.10497578706585338, 'm': 0.08931991803814922, 'n': 0.016358604731168243, 'o': 0.04033048131052488, 'p': 0.04584081513625947}\n",
      "\n",
      "Codebook: {'g': [0, 0, 0, 0], 'l': [0, 0, 0, 1], 'h': [0, 0, 1, 1], 'b': [0, 1, 0, 1], 'c': [0, 1, 1, 0], 'm': [1, 0, 0, 0], 'i': [1, 0, 0, 1], 'a': [1, 0, 1, 0], 'e': [1, 0, 1, 1], 'j': [1, 1, 0, 0, 1], 'p': [1, 1, 0, 1, 1], 'o': [1, 1, 1, 0, 0], 'f': [1, 1, 1, 1, 0, 0], 'n': [1, 1, 1, 1, 0, 1], 'd': [1, 1, 1, 1, 1, 0, 1], 'k': [1, 1, 1, 1, 1, 1, 0]}\n",
      "\n",
      "Cut and paste for phylo.io: ((((g,l)3,(h)4)2,((b)6,(c)7)5)1,(((m,i)10,(a,e)11)9,(((j)14,(p)15)13,((o)17,((f,n)19,((d)21,(k)22)20)18)16)12)8)0\n"
     ]
    }
   ],
   "source": [
    "from vl_codes import shannon_fano\n",
    "from random import random\n",
    "p = [random() for k in range(16)]\n",
    "p = dict([(chr(k+ord('a')),p[k]/sum(p)) for k in range(len(p))])\n",
    "print(f'Probability distribution: {p}\\n')\n",
    "c = shannon_fano(p)\n",
    "print(f'Codebook: {c}\\n')\n",
    "xt = code2xtree(c)\n",
    "print(f'Cut and paste for phylo.io: {xtree2newick(xt)}')"
   ]
  },
  {
   "cell_type": "markdown",
   "metadata": {},
   "source": [
    "We can upload data from a file, for example `hamlet.txt`, and display the first few lines..."
   ]
  },
  {
   "cell_type": "code",
   "execution_count": 14,
   "metadata": {},
   "outputs": [
    {
     "name": "stdout",
     "output_type": "stream",
     "text": [
      "        HAMLET\n",
      "\n",
      "\n",
      "        DRAMATIS PERSONAE\n",
      "\n",
      "\n",
      "CLAUDIUS        king of Denmark. (KING CLAUDIUS:)\n",
      "\n",
      "HAMLET  son to the late, and nephew to the present king.\n",
      "\n",
      "POLONIUS        lord chamberlain. (LORD POLONIUS:)\n",
      "\n",
      "HORATIO friend to Hamlet.\n",
      "\n",
      "LAERTES son to Polonius.\n",
      "\n",
      "LUCIANUS        nephew to the king.\n"
     ]
    }
   ],
   "source": [
    "f = open('hamlet.txt', 'r')\n",
    "hamlet = f.read()\n",
    "f.close()\n",
    "print(hamlet[:294])"
   ]
  },
  {
   "cell_type": "markdown",
   "metadata": {},
   "source": [
    "We now compute the startistics of the file:"
   ]
  },
  {
   "cell_type": "code",
   "execution_count": 15,
   "metadata": {},
   "outputs": [
    {
     "name": "stdout",
     "output_type": "stream",
     "text": [
      "File length: 207039\n"
     ]
    }
   ],
   "source": [
    "from itertools import groupby\n",
    "frequencies = dict([(key, len(list(group))) for key, group in groupby(sorted(hamlet))])\n",
    "Nin = sum([frequencies[a] for a in frequencies])\n",
    "p = dict([(a,frequencies[a]/Nin) for a in frequencies])\n",
    "print(f'File length: {Nin}')"
   ]
  },
  {
   "cell_type": "markdown",
   "metadata": {},
   "source": [
    "We can view the alphabet of symbols used in the file:"
   ]
  },
  {
   "cell_type": "code",
   "execution_count": 16,
   "metadata": {},
   "outputs": [
    {
     "name": "stdout",
     "output_type": "stream",
     "text": [
      "['\\n', ' ', '!', '&', \"'\", '(', ')', ',', '-', '.', ':', ';', '?', 'A', 'B', 'C', 'D', 'E', 'F', 'G', 'H', 'I', 'J', 'K', 'L', 'M', 'N', 'O', 'P', 'Q', 'R', 'S', 'T', 'U', 'V', 'W', 'Y', 'Z', '[', ']', 'a', 'b', 'c', 'd', 'e', 'f', 'g', 'h', 'i', 'j', 'k', 'l', 'm', 'n', 'o', 'p', 'q', 'r', 's', 't', 'u', 'v', 'w', 'x', 'y', 'z', '|']\n",
      "67\n"
     ]
    }
   ],
   "source": [
    "print(list(p))\n",
    "print(len(p))"
   ]
  },
  {
   "cell_type": "markdown",
   "metadata": {},
   "source": [
    "We are now ready to construct the Shannon-Fano code for this file, and view its tree (cut and paste into [phylo.io](https://phylo.io), don't forget to add a carriage return at the end, click on \"Branch Labels/Support\" under \"Settings\", then right-click on the root of the tree and select \"expand all\". "
   ]
  },
  {
   "cell_type": "code",
   "execution_count": 17,
   "metadata": {},
   "outputs": [
    {
     "name": "stdout",
     "output_type": "stream",
     "text": [
      "67\n",
      "166\n",
      "((space,((e,(t)4)3,((o)6,(a,s)7)5)2)1,((((n)11,(h,i)12)10,((r,(carriage return)15)14,((l)17,(d)18)16)13)9,((((u,m)22,(comma,(y)24)23)21,(((w)27,(f)28)26,((c,g)30,(p)31)29)25)20,(((((A)36,(b,T)37)35,((I)39,(E)40)38)34,(((.)43,(L)44)42,((v)46,(k,O)47)45)41)33,((((')51,(H,R)52)50,((N,(S)55)54,((U)57,(M)58)56)53)49,((((semi-colon,colon)62,(D)63)61,((C,G)65,(W,?)66)64)60,(((-,(P)70)69,((!)72,(left square bracket,right square bracket)73)71)68,(((B,F)76,((x,K)78)77)75,(((q)81,(Y,(j)83)82)80,(((Q)86,(Z)87)85,((z,(vertical bar)90)89,((V)92,((left parenthesis,right parenthesis)94,((J)96,((&)98)97)95)93)91)88)84)79)74)67)59)48)32)19)8)0\n",
      "16\n"
     ]
    }
   ],
   "source": [
    "c = shannon_fano(p)\n",
    "print(len(c))\n",
    "      \n",
    "xt = code2xtree(c)\n",
    "print(len(xt))\n",
    "print(xtree2newick(xt))\n",
    "print(len(c['&']))"
   ]
  },
  {
   "cell_type": "markdown",
   "metadata": {},
   "source": [
    "Now we can actually encode the file `hamlet.txt` using the Shannon-Fano code we constructed."
   ]
  },
  {
   "cell_type": "code",
   "execution_count": 18,
   "metadata": {},
   "outputs": [
    {
     "name": "stdout",
     "output_type": "stream",
     "text": [
      "Length of binary sequence: 997548\n"
     ]
    }
   ],
   "source": [
    "from vl_codes import vl_encode\n",
    "hamlet_sf = vl_encode(hamlet, c)\n",
    "print(f'Length of binary sequence: {len(hamlet_sf)}')"
   ]
  },
  {
   "cell_type": "markdown",
   "metadata": {},
   "source": [
    "We have commands to convert a bit sequence into a byte sequence (including a 3 bit prefix that helps us determine the length of the bit sequence):"
   ]
  },
  {
   "cell_type": "code",
   "execution_count": 19,
   "metadata": {},
   "outputs": [
    {
     "name": "stdout",
     "output_type": "stream",
     "text": [
      "['01101000']\n",
      "The original bits are: [0, 1]\n",
      "[141, 128]\n"
     ]
    }
   ],
   "source": [
    "from vl_codes import bytes2bits, bits2bytes\n",
    "x = bits2bytes([0,1])\n",
    "print([format(a, '08b') for a in x])\n",
    "y = bytes2bits(x)\n",
    "print(f'The original bits are: {y}')\n",
    "print(bits2bytes([0,1,1,0,1,1,0,0,0]))"
   ]
  },
  {
   "cell_type": "markdown",
   "metadata": {},
   "source": [
    "We now apply the bits to byte conversion to the compressed text of Hamlet to compute the length of the compressed file."
   ]
  },
  {
   "cell_type": "code",
   "execution_count": 20,
   "metadata": {},
   "outputs": [
    {
     "name": "stdout",
     "output_type": "stream",
     "text": [
      "Length of compressed string: 124694\n"
     ]
    }
   ],
   "source": [
    "hamlet_zipped = bits2bytes(hamlet_sf)\n",
    "Nout = len(hamlet_zipped)\n",
    "print(f'Length of compressed string: {Nout}')"
   ]
  },
  {
   "cell_type": "markdown",
   "metadata": {},
   "source": [
    "The compression ratio can be expressed in two ways, unitless or in bits/bytes:"
   ]
  },
  {
   "cell_type": "code",
   "execution_count": 21,
   "metadata": {},
   "outputs": [
    {
     "name": "stdout",
     "output_type": "stream",
     "text": [
      "Compression ratio (rateless): 0.6022730017049928\n",
      "Compression ratio (bits per byte): 4.818184013639942\n"
     ]
    }
   ],
   "source": [
    "print(f'Compression ratio (rateless): {Nout/Nin}')\n",
    "print(f'Compression ratio (bits per byte): {8.0*Nout/Nin}')"
   ]
  },
  {
   "cell_type": "markdown",
   "metadata": {},
   "source": [
    "The lower bound for compression is the Entropy, measured in bits, that can be computed using an in-line function in Python:"
   ]
  },
  {
   "cell_type": "code",
   "execution_count": 22,
   "metadata": {},
   "outputs": [
    {
     "name": "stdout",
     "output_type": "stream",
     "text": [
      "Entropy: 4.449863631694343\n"
     ]
    }
   ],
   "source": [
    "from math import log2\n",
    "H = lambda pr: -sum([pr[a]*log2(pr[a]) for a in pr])\n",
    "print(f'Entropy: {H(p)}')"
   ]
  },
  {
   "cell_type": "markdown",
   "metadata": {},
   "source": [
    "We now proceed to decode the compressed Hamlet sequence"
   ]
  },
  {
   "cell_type": "code",
   "execution_count": 23,
   "metadata": {},
   "outputs": [
    {
     "name": "stdout",
     "output_type": "stream",
     "text": [
      "Length of unzipped file: 207039\n"
     ]
    }
   ],
   "source": [
    "from vl_codes import vl_decode\n",
    "xt = code2xtree(c)\n",
    "hamlet_unzipped = vl_decode(hamlet_sf, xt)\n",
    "print(f'Length of unzipped file: {len(hamlet_unzipped)}')"
   ]
  },
  {
   "cell_type": "markdown",
   "metadata": {},
   "source": [
    "We can view the first few lines of the input (note the command `join` that turns the list of strings into one string)"
   ]
  },
  {
   "cell_type": "code",
   "execution_count": 24,
   "metadata": {},
   "outputs": [
    {
     "name": "stdout",
     "output_type": "stream",
     "text": [
      "        HAMLET\n",
      "\n",
      "\n",
      "        DRAMATIS PERSONAE\n",
      "\n",
      "\n",
      "CLAUDIUS        king of Denmark. (KING CLAUDIUS:)\n",
      "\n",
      "HAMLET  son to the late, and nephew to the present king.\n",
      "\n",
      "POLONIUS        lord chamberlain. (LORD POLONIUS:)\n",
      "\n",
      "HORATIO friend to Hamlet.\n",
      "\n",
      "LAERTES son to Polonius.\n",
      "\n",
      "LUCIANUS        nephew to the king.\n"
     ]
    }
   ],
   "source": [
    "print(''.join(hamlet_unzipped[:294]))"
   ]
  },
  {
   "cell_type": "markdown",
   "metadata": {},
   "source": [
    "## Compressing and uncompressing files"
   ]
  },
  {
   "cell_type": "markdown",
   "metadata": {},
   "source": [
    "This is where we put it all together, compressing directly from input to output file. Play around with these commands once you implemented Huffman coding and arithmetic coding. We begin by importing the compression and decompression functions."
   ]
  },
  {
   "cell_type": "code",
   "execution_count": 25,
   "metadata": {},
   "outputs": [],
   "source": [
    "from camzip import camzip\n",
    "from camunzip import camunzip"
   ]
  },
  {
   "cell_type": "markdown",
   "metadata": {},
   "source": [
    "The next commands define the method to be used and the filename. Modify those when you are trying other methods on various files. "
   ]
  },
  {
   "cell_type": "code",
   "execution_count": 26,
   "metadata": {},
   "outputs": [],
   "source": [
    "methods = ['shannon_fano','huffman','arithmetic']\n",
    "filename = 'hamlet.txt'"
   ]
  },
  {
   "cell_type": "markdown",
   "metadata": {},
   "source": [
    "Now we do the actual compression and decompression..."
   ]
  },
  {
   "cell_type": "code",
   "execution_count": 41,
   "metadata": {},
   "outputs": [
    {
     "name": "stdout",
     "output_type": "stream",
     "text": [
      "Method: shannon_fano\n",
      " Time taken to zip: 0.38454341888427734\n",
      " Time taken to unzip: 0.4774966239929199 \n",
      "Method: huffman\n",
      " Time taken to zip: 0.2862873077392578\n",
      " Time taken to unzip: 0.38007164001464844 \n",
      "Method: arithmetic 99%    \n",
      " Time taken to zip: 2.3064353466033936\n",
      " Time taken to unzip: 2.2608261108398438 \n"
     ]
    }
   ],
   "source": [
    "import time\n",
    "for method in methods:\n",
    "    start=time.time()\n",
    "    camzip(method, filename)\n",
    "    endzip=time.time()\n",
    "    camunzip(filename + '.cz' + method[0])\n",
    "    endunzip=time.time()\n",
    "    print('Method: {}\\n Time taken to zip: {}s \\n Time taken to unzip: {}s '.format(method,endzip-start,endunzip-endzip))"
   ]
  },
  {
   "cell_type": "markdown",
   "metadata": {},
   "source": [
    "The next few lines perform various statistical measurements and verifies that the decompressed file is identical to the compressed file."
   ]
  },
  {
   "cell_type": "code",
   "execution_count": 28,
   "metadata": {},
   "outputs": [
    {
     "name": "stdout",
     "output_type": "stream",
     "text": [
      "Length of original file: 207039 bytes\n",
      "\n",
      "METHOD: shannon_fano\n",
      "Length of compressed file: 124694 bytes\n",
      "Compression rate: 4.818184013639942 bits/byte\n",
      "Entropy: 4.449863631694343 bits per symbol\n",
      "The two files are the same\n",
      "\n",
      "METHOD: huffman\n",
      "Length of compressed file: 115752 bytes\n",
      "Compression rate: 4.47266457044325 bits/byte\n",
      "Entropy: 4.449863631694343 bits per symbol\n",
      "The two files are the same\n",
      "\n",
      "METHOD: arithmetic\n",
      "Length of compressed file: 115163 bytes\n",
      "Compression rate: 4.449905573346085 bits/byte\n",
      "Entropy: 4.449863631694343 bits per symbol\n",
      "The two files are the same\n"
     ]
    }
   ],
   "source": [
    "from filecmp import cmp\n",
    "from os import stat\n",
    "from json import load\n",
    "Nin = stat(filename).st_size\n",
    "print(f'Length of original file: {Nin} bytes')\n",
    "for method in methods:\n",
    "    print(f'\\nMETHOD: {method}')\n",
    "    Nout = stat(filename + '.cz' + method[0]).st_size\n",
    "    print(f'Length of compressed file: {Nout} bytes')\n",
    "    print(f'Compression rate: {8.0*Nout/Nin} bits/byte')\n",
    "    with open(filename + '.czp', 'r') as fp:\n",
    "        freq = load(fp)\n",
    "    pf = dict([(a, freq[a]/Nin) for a in freq])\n",
    "    print(f'Entropy: {H(pf)} bits per symbol')\n",
    "    if cmp(filename,filename+'.cuz'):\n",
    "        print('The two files are the same')\n",
    "    else:\n",
    "        print('The files are different')"
   ]
  },
  {
   "cell_type": "markdown",
   "metadata": {},
   "source": [
    "## Huffman coding"
   ]
  },
  {
   "cell_type": "markdown",
   "metadata": {},
   "source": [
    "This section will only work once you have a working function `huffman()`. We first repeat the tree construction and visualisation."
   ]
  },
  {
   "cell_type": "code",
   "execution_count": 29,
   "metadata": {},
   "outputs": [
    {
     "name": "stdout",
     "output_type": "stream",
     "text": [
      "[[115, [], '\\n'], [131, [], ' '], [80, [], '!'], [67, [], '&'], [93, [], \"'\"], [68, [], '('], [69, [], ')'], [109, [], ','], [82, [], '-'], [97, [], '.'], [86, [], ':'], [87, [], ';'], [83, [], '?'], [100, [], 'A'], [78, [], 'B'], [85, [], 'C'], [86, [], 'D'], [98, [], 'E'], [78, [], 'F'], [84, [], 'G'], [92, [], 'H'], [99, [], 'I'], [67, [], 'J'], [75, [], 'K'], [96, [], 'L'], [88, [], 'M'], [90, [], 'N'], [94, [], 'O'], [81, [], 'P'], [73, [], 'Q'], [91, [], 'R'], [89, [], 'S'], [99, [], 'T'], [89, [], 'U'], [70, [], 'V'], [83, [], 'W'], [74, [], 'Y'], [72, [], 'Z'], [79, [], '['], [79, [], ']'], [121, [], 'a'], [100, [], 'b'], [105, [], 'c'], [113, [], 'd'], [125, [], 'e'], [106, [], 'f'], [103, [], 'g'], [119, [], 'h'], [118, [], 'i'], [74, [], 'j'], [95, [], 'k'], [114, [], 'l'], [111, [], 'm'], [119, [], 'n'], [122, [], 'o'], [101, [], 'p'], [75, [], 'q'], [117, [], 'r'], [120, [], 's'], [123, [], 't'], [112, [], 'u'], [96, [], 'v'], [107, [], 'w'], [76, [], 'x'], [108, [], 'y'], [71, [], 'z'], [71, [], '|'], [68, [3, 22], '67'], [69, [67, 5], '68'], [70, [6, 68], '69'], [72, [34, 69], '70'], [73, [66, 65], '71'], [76, [37, 70], '72'], [77, [29, 71], '73'], [77, [49, 36], '74'], [80, [56, 23], '75'], [81, [72, 63], '76'], [82, [73, 74], '77'], [84, [18, 14], '78'], [85, [38, 39], '79'], [87, [75, 2], '80'], [88, [28, 76], '81'], [90, [77, 8], '82'], [91, [12, 35], '83'], [92, [19, 78], '84'], [93, [15, 79], '85'], [94, [16, 10], '86'], [95, [80, 11], '87'], [97, [25, 81], '88'], [98, [33, 31], '89'], [101, [82, 26], '90'], [102, [83, 30], '91'], [102, [84, 20], '92'], [103, [4, 85], '93'], [104, [86, 27], '94'], [104, [50, 87], '95'], [105, [61, 24], '96'], [106, [88, 9], '97'], [107, [89, 17], '98'], [108, [21, 32], '99'], [109, [41, 13], '100'], [110, [90, 55], '101'], [110, [91, 92], '102'], [111, [93, 46], '103'], [112, [94, 95], '104'], [113, [96, 42], '105'], [114, [45, 97], '106'], [115, [62, 98], '107'], [116, [99, 64], '108'], [116, [100, 7], '109'], [117, [101, 102], '110'], [118, [52, 103], '111'], [120, [60, 104], '112'], [121, [105, 43], '113'], [122, [106, 51], '114'], [123, [107, 0], '115'], [124, [108, 109], '116'], [124, [110, 57], '117'], [125, [48, 111], '118'], [126, [47, 53], '119'], [126, [58, 112], '120'], [127, [40, 113], '121'], [127, [114, 54], '122'], [128, [59, 115], '123'], [128, [116, 117], '124'], [129, [44, 118], '125'], [129, [119, 120], '126'], [130, [121, 122], '127'], [130, [123, 124], '128'], [131, [125, 126], '129'], [132, [127, 128], '130'], [132, [1, 129], '131'], [-1, [130, 131], '132']]\n",
      "((((a,(((v,L)96,c)105,d)113)121,(((f,((M,(P,((Z,(V,(right parenthesis,((&,J)67,left parenthesis)68)69)70)72,x)76)81)88,.)97)106,l)114,o)122)127,((t,((w,((U,S)89,E)98)107,carriage return)115)123,((((I,T)99,y)108,((b,A)100,comma)109)116,(((((((Q,(vertical bar,z)71)73,(j,Y)74)77,-)82,N)90,p)101,(((?,W)83,R)91,((G,(F,B)78)84,H)92)102)110,r)117)124)128)130,(space,((e,(i,(m,((',(C,(left square bracket,right square bracket)79)85)93,g)103)111)118)125,((h,n)119,(s,(u,(((D,colon)86,O)94,(k,(((q,K)75,!)80,semi-colon)87)95)104)112)120)126)129)131)132\n"
     ]
    }
   ],
   "source": [
    "from vl_codes import huffman\n",
    "xt = huffman(p)\n",
    "print(xt)\n",
    "print(xtree2newick(xt))"
   ]
  },
  {
   "cell_type": "code",
   "execution_count": 30,
   "metadata": {},
   "outputs": [
    {
     "data": {
      "text/plain": [
       "{'a': [0], 'b': [1, 1, 1], 'c': [1, 0], 'd': [1, 1, 0]}"
      ]
     },
     "execution_count": 30,
     "metadata": {},
     "output_type": "execute_result"
    }
   ],
   "source": [
    "xtree2code(huffman({'a':.5, 'b':.25, 'c':.25, 'd':0}))"
   ]
  },
  {
   "cell_type": "markdown",
   "metadata": {},
   "source": [
    "Observe how the Huffman tree differs from the Shannon-Fano tree. What are its shortest and its longest codeword? You can use the `camzip` code above changing the method to `'huffman'` to test the compression rate etc. You may also want to do it by hand to test the error resilience:"
   ]
  },
  {
   "cell_type": "code",
   "execution_count": 31,
   "metadata": {},
   "outputs": [
    {
     "name": "stdout",
     "output_type": "stream",
     "text": [
      "        HAMLET\n",
      "\n",
      "\n",
      "        DRAMATIS PERSONAE\n",
      "\n",
      "\n",
      "CLAUDIUS        king of Denmark. (KING CLAUDIUS:)\n",
      "\n",
      "HAMLET  son to the late, and nephew to the present king.\n",
      "\n",
      "POLONIUS        lord chamberlain. (LORD POLONIUS:)\n",
      "\n",
      "HORATIO friend to Hamlet.\n",
      "\n",
      "LAERTES son to Polonius.\n",
      "\n",
      "LUCIANUS        nephew to the king.\n"
     ]
    }
   ],
   "source": [
    "c = xtree2code(xt)\n",
    "hamlet_huf = vl_encode(hamlet, c)\n",
    "hamlet_decoded = vl_decode(hamlet_huf, xt)\n",
    "print(''.join(hamlet_decoded[:294]))"
   ]
  },
  {
   "cell_type": "markdown",
   "metadata": {},
   "source": [
    "We now introduce a random bit flip (bit 400 flipped) in the compressed sequence and observe the result."
   ]
  },
  {
   "cell_type": "code",
   "execution_count": 32,
   "metadata": {},
   "outputs": [
    {
     "name": "stdout",
     "output_type": "stream",
     "text": [
      "        HAMLET\n",
      "\n",
      "\n",
      "        Ds  i t oEc a   et  ERSONAE\n",
      "\n",
      "\n",
      "CLAUDIUS        king of Denmark. (KING CLAUDIUS:)\n",
      "\n",
      "HAMLET  son to the late, and nephew to the present king.\n",
      "\n",
      "POLONIUS        lord chamberlain. (LORD POLONIUS:)\n",
      "\n",
      "HORATIO friend to Hamlet.\n",
      "\n",
      "LAERTES son to Polonius.\n",
      "\n",
      "LUCIANUS        nephew to\n"
     ]
    }
   ],
   "source": [
    "hamlet_corrupted = hamlet_huf.copy()\n",
    "hamlet_corrupted[100] ^= 1\n",
    "hamlet_decoded = vl_decode(hamlet_corrupted, xt)\n",
    "print(''.join(hamlet_decoded[:294]))"
   ]
  },
  {
   "cell_type": "markdown",
   "metadata": {},
   "source": [
    "## Arithmetic coding"
   ]
  },
  {
   "cell_type": "markdown",
   "metadata": {},
   "source": [
    "We first try \"by hand\" to operate the steps of arithmetic coding using floating point numbers. We first compute the cumulative probability distribution."
   ]
  },
  {
   "cell_type": "code",
   "execution_count": 33,
   "metadata": {},
   "outputs": [],
   "source": [
    "f = [0.0]\n",
    "for a in p:\n",
    "    f.append(f[-1]+p[a])\n",
    "f.pop()\n",
    "f = dict([(a,f[k]) for a,k in zip(p,range(len(p)))])"
   ]
  },
  {
   "cell_type": "markdown",
   "metadata": {},
   "source": [
    "We now perform by hand the first `n=4` steps of arithmetic coding. Vary `n` to observe the loss of precision. "
   ]
  },
  {
   "cell_type": "code",
   "execution_count": 34,
   "metadata": {},
   "outputs": [
    {
     "name": "stdout",
     "output_type": "stream",
     "text": [
      "lo = 0.03994572862162076, hi = 0.04551184792510039, hi-lo = 0.005566119303479632\n"
     ]
    }
   ],
   "source": [
    "lo, hi = 0.0, 1.0\n",
    "n = 4\n",
    "for k in range(n):\n",
    "    a = hamlet[k]\n",
    "    lohi_range = hi - lo\n",
    "    lo = lo + lohi_range * f[a]\n",
    "    hi = lo + lohi_range*p[a]\n",
    "print(f'lo = {lo}, hi = {hi}, hi-lo = {hi-lo}')"
   ]
  },
  {
   "cell_type": "markdown",
   "metadata": {},
   "source": [
    "The output sequence is roughly the binary expression of `lo` (not exactly) and we can compute and observe it. What length `ell` would we need when encoding all of Hamlet?"
   ]
  },
  {
   "cell_type": "code",
   "execution_count": 35,
   "metadata": {},
   "outputs": [
    {
     "name": "stdout",
     "output_type": "stream",
     "text": [
      "0b101000\n"
     ]
    }
   ],
   "source": [
    "from math import floor, ceil\n",
    "ell = ceil(-log2(hi-lo))+2 if hi-lo > 0.0 else 96\n",
    "print(bin(floor(lo*2**ell)))"
   ]
  },
  {
   "cell_type": "markdown",
   "metadata": {},
   "source": [
    "We encode and decode Hamlet again using arithmetic coding and verify that the first few lines of the play look as expected."
   ]
  },
  {
   "cell_type": "code",
   "execution_count": 36,
   "metadata": {},
   "outputs": [
    {
     "name": "stdout",
     "output_type": "stream",
     "text": [
      "Arithmetic decoded 99%    \n",
      "        HAMLET\n",
      "\n",
      "\n",
      "        DRAMATIS PERSONAE\n",
      "\n",
      "\n",
      "CLAUDIUS        king of Denmark. (KING CLAUDIUS:)\n",
      "\n",
      "HAMLET  son to the late, and nephew to the present king.\n",
      "\n",
      "POLONIUS        lord chamberlain. (LORD POLONIUS:)\n",
      "\n",
      "HORATIO friend to Hamlet.\n",
      "\n",
      "LAERTES son to Polonius.\n",
      "\n",
      "LUCIANUS        nephew to the king.\n"
     ]
    }
   ],
   "source": [
    "import arithmetic as arith\n",
    "arith_encoded = arith.encode(hamlet, p)\n",
    "arith_decoded = arith.decode(arith_encoded, p, Nin)\n",
    "print('\\n'+''.join(arith_decoded[:294]))"
   ]
  },
  {
   "cell_type": "markdown",
   "metadata": {},
   "source": [
    "We now repeat the steps above but introduce a one bit mistake (bit 399 flipped) and observe the effect on the decoded text. Repeat this experiment varying the location of the mistake or adding more than one mistake. What do you observe? Can you explain why?"
   ]
  },
  {
   "cell_type": "code",
   "execution_count": 37,
   "metadata": {},
   "outputs": [
    {
     "name": "stdout",
     "output_type": "stream",
     "text": [
      "Arithmetic decoded 1%    \r"
     ]
    },
    {
     "name": "stdout",
     "output_type": "stream",
     "text": [
      "Arithmetic decoded 99%    \n",
      "        HAMLET\n",
      "\n",
      "\n",
      "        DRAMATIS PERSONAE\n",
      "\n",
      "\n",
      "CLAUDIUS        king of  we oR-   lae noat lt ewh RtntsLr\n",
      " m ws ooark]rthein  limEtb;sman ltaoc  t \n",
      "tha\n",
      " h iIe   e d  rtrtIua an iietIe snm nC\n",
      "j,uhe InaliOetRr HdotrA   roo rrBat ln eyP  t   a?tcrrp   \n",
      "\n",
      "Aooi easeplE o  esst iMRn beiwnln   amhIomtu\n",
      "s\n"
     ]
    }
   ],
   "source": [
    "arith_corrupted = arith_encoded.copy()\n",
    "arith_corrupted[350] ^= 1\n",
    "arith_decoded = arith.decode(arith_corrupted, p, Nin)\n",
    "print('\\n'+''.join(arith_decoded[:294]))"
   ]
  },
  {
   "cell_type": "code",
   "execution_count": 38,
   "metadata": {},
   "outputs": [
    {
     "data": {
      "text/plain": [
       "'(((5,6)3,(7)4)1,(8)2)0'"
      ]
     },
     "execution_count": 38,
     "metadata": {},
     "output_type": "execute_result"
    }
   ],
   "source": [
    "xtree2newick(tree2xtree([-1,0,0,1,1,3,3,4,2]),[str(chr(a+ord('0'))) for a in range(9)])"
   ]
  },
  {
   "cell_type": "code",
   "execution_count": null,
   "metadata": {},
   "outputs": [],
   "source": []
  }
 ],
 "metadata": {
  "kernelspec": {
   "display_name": "Python 3",
   "language": "python",
   "name": "python3"
  },
  "language_info": {
   "codemirror_mode": {
    "name": "ipython",
    "version": 3
   },
   "file_extension": ".py",
   "mimetype": "text/x-python",
   "name": "python",
   "nbconvert_exporter": "python",
   "pygments_lexer": "ipython3",
   "version": "3.9.7"
  }
 },
 "nbformat": 4,
 "nbformat_minor": 2
}
